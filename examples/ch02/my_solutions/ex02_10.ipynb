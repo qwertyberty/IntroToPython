{
 "cells": [
  {
   "cell_type": "code",
   "execution_count": 13,
   "metadata": {},
   "outputs": [
    {
     "name": "stdin",
     "output_type": "stream",
     "text": [
      "Enter an integer: 7\n",
      "Enter an integer: 11\n",
      "Enter an integer: 13\n"
     ]
    },
    {
     "name": "stdout",
     "output_type": "stream",
     "text": [
      "sum =  31\n",
      "mean =  10.333333333333334\n",
      "product =  1001\n",
      "min =  7\n",
      "max =  13\n"
     ]
    }
   ],
   "source": [
    "from functools import reduce\n",
    "from operator import mul\n",
    "\n",
    "vals = [ int(input('Enter an integer:')) for _ in range(3) ]\n",
    "print('sum = ', sum(vals))\n",
    "print('mean = ', sum(vals) / len(vals))\n",
    "print('product = ', reduce(mul, vals))\n",
    "print('min = ', min(vals))\n",
    "print('max = ', max(vals))"
   ]
  },
  {
   "cell_type": "code",
   "execution_count": null,
   "metadata": {},
   "outputs": [],
   "source": []
  }
 ],
 "metadata": {
  "kernelspec": {
   "display_name": "Python 3",
   "language": "python",
   "name": "python3"
  },
  "language_info": {
   "codemirror_mode": {
    "name": "ipython",
    "version": 3
   },
   "file_extension": ".py",
   "mimetype": "text/x-python",
   "name": "python",
   "nbconvert_exporter": "python",
   "pygments_lexer": "ipython3",
   "version": "3.8.5"
  }
 },
 "nbformat": 4,
 "nbformat_minor": 4
}
