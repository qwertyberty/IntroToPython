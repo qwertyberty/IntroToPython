{
 "cells": [
  {
   "cell_type": "code",
   "execution_count": 1,
   "metadata": {},
   "outputs": [],
   "source": [
    "left = 27.5\n",
    "right = 2"
   ]
  },
  {
   "cell_type": "code",
   "execution_count": 2,
   "metadata": {},
   "outputs": [
    {
     "name": "stdout",
     "output_type": "stream",
     "text": [
      "27.5 + 2 = 29.5\n",
      "27.5 - 2 = 25.5\n",
      "27.5 / 2 = 13.75\n",
      "27.5 // 2 = 13.0\n",
      "27.5 ** 2 = 756.25\n"
     ]
    }
   ],
   "source": [
    "print(left, '+', right, '=', left + right)\n",
    "print(left, '-', right, '=', left - right)\n",
    "print(left, '/', right, '=', left / right)\n",
    "print(left, '//', right, '=', left // right)\n",
    "print(left, '**', right, '=', left ** right)"
   ]
  },
  {
   "cell_type": "code",
   "execution_count": null,
   "metadata": {},
   "outputs": [],
   "source": []
  }
 ],
 "metadata": {
  "kernelspec": {
   "display_name": "Python 3",
   "language": "python",
   "name": "python3"
  },
  "language_info": {
   "codemirror_mode": {
    "name": "ipython",
    "version": 3
   },
   "file_extension": ".py",
   "mimetype": "text/x-python",
   "name": "python",
   "nbconvert_exporter": "python",
   "pygments_lexer": "ipython3",
   "version": "3.8.5"
  }
 },
 "nbformat": 4,
 "nbformat_minor": 4
}
